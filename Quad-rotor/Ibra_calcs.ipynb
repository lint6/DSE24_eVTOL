{
 "cells": [
  {
   "cell_type": "code",
   "execution_count": 2,
   "metadata": {},
   "outputs": [],
   "source": [
    "import numpy as np\n",
    "import matplotlib.pyplot as plt \n"
   ]
  },
  {
   "cell_type": "code",
   "execution_count": 3,
   "metadata": {},
   "outputs": [
    {
     "name": "stdout",
     "output_type": "stream",
     "text": [
      "Drag Force: 153.125 N\n"
     ]
    }
   ],
   "source": [
    "class RotorBladeDrag:\n",
    "    def __init__(self, density, velocity, drag_coefficient, area):\n",
    "        \"\"\"\n",
    "        Initialize the RotorBladeDrag object.\n",
    "\n",
    "        Parameters:\n",
    "        density (float): The air density (kg/m^3)\n",
    "        velocity (float): The velocity of the air (m/s)\n",
    "        drag_coefficient (float): The drag coefficient of the rotor blade\n",
    "        area (float): The reference area of the rotor blade (m^2)\n",
    "        \"\"\"\n",
    "        self.density = density\n",
    "        self.velocity = velocity\n",
    "        self.drag_coefficient = drag_coefficient\n",
    "        self.area = area\n",
    "\n",
    "    def calculate_drag(self):\n",
    "        \"\"\"\n",
    "        Calculate the drag force on the rotor blade.\n",
    "\n",
    "        Returns:\n",
    "        float: The drag force (N)\n",
    "        \"\"\"\n",
    "        drag_force = 0.5 * self.density * self.velocity**2 * self.drag_coefficient * self.area\n",
    "        return drag_force\n",
    "\n",
    "# Example usage\n",
    "density = 1.225  # kg/m^3 (air density at sea level)\n",
    "velocity = 50  # m/s\n",
    "drag_coefficient = 0.05  # example drag coefficient\n",
    "area = 2.0  # m^2 (example reference area)\n",
    "\n",
    "rotor_blade = RotorBladeDrag(density, velocity, drag_coefficient, area)\n",
    "drag_force = rotor_blade.calculate_drag()\n",
    "print(f\"Drag Force: {drag_force} N\")"
   ]
  }
 ],
 "metadata": {
  "kernelspec": {
   "display_name": "Python 3",
   "language": "python",
   "name": "python3"
  },
  "language_info": {
   "codemirror_mode": {
    "name": "ipython",
    "version": 3
   },
   "file_extension": ".py",
   "mimetype": "text/x-python",
   "name": "python",
   "nbconvert_exporter": "python",
   "pygments_lexer": "ipython3",
   "version": "3.10.4"
  }
 },
 "nbformat": 4,
 "nbformat_minor": 2
}
